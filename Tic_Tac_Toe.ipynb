{
  "nbformat": 4,
  "nbformat_minor": 0,
  "metadata": {
    "colab": {
      "provenance": [],
      "authorship_tag": "ABX9TyMwBJNHgGpwdwAfurt1Dx6d",
      "include_colab_link": true
    },
    "kernelspec": {
      "name": "python3",
      "display_name": "Python 3"
    },
    "language_info": {
      "name": "python"
    }
  },
  "cells": [
    {
      "cell_type": "markdown",
      "metadata": {
        "id": "view-in-github",
        "colab_type": "text"
      },
      "source": [
        "<a href=\"https://colab.research.google.com/github/Ninja7328/TicTacToe/blob/main/Tic_Tac_Toe.ipynb\" target=\"_parent\"><img src=\"https://colab.research.google.com/assets/colab-badge.svg\" alt=\"Open In Colab\"/></a>"
      ]
    },
    {
      "cell_type": "code",
      "execution_count": 2,
      "metadata": {
        "id": "f8RQI18T2Isw"
      },
      "outputs": [],
      "source": [
        "import numpy as np\n",
        "import random"
      ]
    },
    {
      "cell_type": "code",
      "source": [
        "class TicTacToe:\n",
        "  def __init__(self):\n",
        "    self.board=[' ' for _ in range(9)]\n",
        "    self.current_player=\"X\"\n",
        "    self.winning_combinations=[(0,1,2),(3,4,5),(6,7,8),(0,3,6),(1,4,7),(2,5,8),(0,4,8),(2,4,6)]\n",
        "  def reset(self):\n",
        "    self.board = [' ' for _ in range(9)]\n",
        "    self.current_player ='X'\n",
        "\n",
        "  def is_valid_move(self, move):\n",
        "    return self.board[move] == ' '\n",
        "\n",
        "  def make_move(self, move):\n",
        "    self.board[move] = self.current_player\n",
        "    self.current_player = '0' if self.current_player == 'X' else 'X'\n",
        "\n",
        "  def check_winner(self):\n",
        "    for combo in self.winning_combinations:\n",
        "      if self.board[combo[0]] == self.board[combo[1]] == self.board[combo[2]] != ' ':\n",
        "        return self.board[combo[0]]\n",
        "    if ' ' not in self.board:\n",
        "      return 'Draw'\n",
        "    return None\n",
        "\n",
        "  def print_board(self):\n",
        "    for i in range(0, 9, 3):\n",
        "      print(' | '.join(self.board[i:i+3]))\n",
        "      if i < 6:\n",
        "        print('--+--+--')\n",
        "\n",
        "\n",
        "\n"
      ],
      "metadata": {
        "id": "Gj8Yoq7M3OrL"
      },
      "execution_count": 8,
      "outputs": []
    },
    {
      "cell_type": "code",
      "source": [
        "from prompt_toolkit.shortcuts.progress_bar.base import E\n",
        "learning_rate = 0.1\n",
        "discount_factor = 0.9\n",
        "exploration_prob = 0.1\n",
        "episodes = 10000\n",
        "\n",
        "\n",
        "def get_q_value(state, action):\n",
        "  return Q.get(state, {}).get(action, 0.0)\n",
        "\n",
        "\n",
        "for episode in range(episodes):\n",
        "  env = TicTacToe()\n",
        "  state = ''.join(env.board)\n",
        "  done = False\n",
        "  while not done:\n",
        "    if random.uniform(0,1) < exploration_prob:\n",
        "      action = random.choice([i for i in range(9) if env.is_valid_move(i)])\n",
        "    else:\n",
        "      action = max(range(9), key=lambda a: get_q_value(state, a))\n",
        "\n",
        "    next_state =state[:action] + env.current_player + state[action+1:]\n",
        "\n",
        "    if env.is_valid_move(action):\n",
        "      env.make_move(action)\n",
        "\n",
        "    reward = 0\n",
        "    winner = env.check_winner()\n",
        "    if winner == 'X':\n",
        "      reward = 1\n",
        "    elif winner == '0':\n",
        "      reward = -1\n",
        "    elif winner == 'Draw':\n",
        "      reward = 0.1\n",
        "\n",
        "\n",
        "    best_next_action = max(range(9), key=lambda a: get_q_value(next_state, a))\n",
        "    Q.setdefault(state, {})[action] = get_q_value(state, action) + learning_rate * (reward + discount_factor * get_q_value(next_state, best_next_action)-get_q_value(state, action))\n",
        "    state = next_state\n",
        "\n",
        "    if winner is not None:\n",
        "      done = True\n",
        "\n",
        "def play_game_with_trained_agent():\n",
        "  env = TicTacToe()\n",
        "  state = ''.join(env.board)\n",
        "  env.print_board()\n",
        "\n",
        "\n",
        "  while True:\n",
        "    if env.current_player =='X':\n",
        "      action = max(range(9),key = lambda a:get_q_value(state,a))\n",
        "    else:\n",
        "      action = int(input(\"Enter your move (0 - 8):\"))\n",
        "    if env.is_valid_move(action):\n",
        "      env.make_move(action)\n",
        "      state = ''.join(env.board)\n",
        "      env.print_board()\n",
        "\n",
        "      winner = env.check_winner()\n",
        "      if winner:\n",
        "        if winner =='Draw':\n",
        "          print(\"It's a draw!\")\n",
        "        else:\n",
        "          print(f\"{winner} wins!\" )\n",
        "          break\n",
        "      else:\n",
        "        print(\"Invalid move. Try again.\")\n",
        "\n",
        "play_game_with_trained_agent()\n"
      ],
      "metadata": {
        "colab": {
          "base_uri": "https://localhost:8080/"
        },
        "id": "-XClQ2ic8oov",
        "outputId": "736994e2-d7ad-4a54-8cba-9a39c2f0d422"
      },
      "execution_count": 12,
      "outputs": [
        {
          "output_type": "stream",
          "name": "stdout",
          "text": [
            "  |   |  \n",
            "--+--+--\n",
            "  |   |  \n",
            "--+--+--\n",
            "  |   |  \n",
            "X |   |  \n",
            "--+--+--\n",
            "  |   |  \n",
            "--+--+--\n",
            "  |   |  \n",
            "Invalid move. Try again.\n",
            "Enter your move (0 - 8):2\n",
            "X |   | 0\n",
            "--+--+--\n",
            "  |   |  \n",
            "--+--+--\n",
            "  |   |  \n",
            "Invalid move. Try again.\n",
            "X |   | 0\n",
            "--+--+--\n",
            "  | X |  \n",
            "--+--+--\n",
            "  |   |  \n",
            "Invalid move. Try again.\n",
            "Enter your move (0 - 8):4\n",
            "Enter your move (0 - 8):7\n",
            "X |   | 0\n",
            "--+--+--\n",
            "  | X |  \n",
            "--+--+--\n",
            "  | 0 |  \n",
            "Invalid move. Try again.\n",
            "X |   | 0\n",
            "--+--+--\n",
            "  | X |  \n",
            "--+--+--\n",
            "  | 0 | X\n",
            "X wins!\n"
          ]
        }
      ]
    },
    {
      "cell_type": "code",
      "source": [],
      "metadata": {
        "id": "Brmuvq5PC2KO"
      },
      "execution_count": null,
      "outputs": []
    }
  ]
}